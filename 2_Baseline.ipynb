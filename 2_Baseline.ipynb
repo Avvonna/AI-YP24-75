{
 "cells": [
  {
   "cell_type": "markdown",
   "metadata": {},
   "source": [
    "# Построение baseline модели прогнозирования цен на акции"
   ]
  },
  {
   "cell_type": "markdown",
   "metadata": {},
   "source": [
    "## Оглавление\n",
    "\n",
    "1. **Импорт необходимых библиотек**\n",
    "2. **Вспомогательные классы и функции**\n",
    "    - `RandomTimeSplit` - класс для создания кросс-валидационных выборок данных\n",
    "    - `ArimaEstimator` - класс для подбора оптимальных параметров SARIMA\n",
    "    - и пр.\n",
    "3. **Подготовка данных**\n",
    "4. **Baseline модель**\n",
    "    - `SARIMA` модель"
   ]
  },
  {
   "cell_type": "markdown",
   "metadata": {},
   "source": [
    "## 1. Импорт необходимых библиотек"
   ]
  },
  {
   "cell_type": "code",
   "execution_count": 17,
   "metadata": {},
   "outputs": [],
   "source": [
    "import numpy as np\n",
    "import pandas as pd\n",
    "import matplotlib.pyplot as plt\n",
    "from pandas import IndexSlice as idx\n",
    "\n",
    "import pmdarima\n",
    "import pmdarima.warnings\n",
    "\n",
    "from sklearn.base import BaseEstimator, TransformerMixin\n",
    "from sklearn.model_selection import BaseCrossValidator, cross_val_score\n",
    "from sklearn.metrics import mean_absolute_error, mean_squared_error\n",
    "from sklearn.utils.validation import check_array, check_is_fitted, check_random_state\n",
    "\n",
    "from statsmodels.tsa.stattools import adfuller, kpss, InterpolationWarning\n",
    "from arch.unitroot import VarianceRatio\n",
    "\n",
    "from typing import Literal, Optional, Union\n",
    "\n",
    "import warnings"
   ]
  },
  {
   "cell_type": "markdown",
   "metadata": {},
   "source": [
    "## 2. Вспомогательные классы и функции"
   ]
  },
  {
   "cell_type": "markdown",
   "metadata": {},
   "source": [
    "- `RandomTimeSplit` - класс создания Folds для кросс-валидации.  \n",
    "    Выбирает `n_splits` случайных участков длины `train_size` + `test_size`"
   ]
  },
  {
   "cell_type": "code",
   "execution_count": 2,
   "metadata": {},
   "outputs": [],
   "source": [
    "class RandomTimeSplit(BaseCrossValidator):\n",
    "    def __init__(self, train_window, test_window, n_samples, random_state=None):\n",
    "        self.train_window = train_window\n",
    "        self.test_window = test_window\n",
    "        self.n_splits = n_samples\n",
    "        self.random_state = random_state\n",
    "    \n",
    "    def split(self, X, y=None, groups=None):\n",
    "        n_samples = len(X)\n",
    "        \n",
    "        rng: np.random.RandomState = check_random_state(self.random_state)\n",
    "\n",
    "        if n_samples < self.train_window + self.test_window:\n",
    "            raise ValueError(\"Data size is smaller than the sum of train and test windows.\")\n",
    "        \n",
    "        start_indices = rng.randint(\n",
    "            0, \n",
    "            n_samples - self.train_window - self.test_window, \n",
    "            size=self.n_splits\n",
    "        )\n",
    "        \n",
    "        for start_idx in start_indices:\n",
    "            train_start = start_idx\n",
    "            train_end = start_idx + self.train_window\n",
    "            test_start = train_end\n",
    "            test_end = test_start + self.test_window\n",
    "            \n",
    "            train_index = np.arange(train_start, train_end)\n",
    "            test_index = np.arange(test_start, test_end)\n",
    "            \n",
    "            yield train_index, test_index\n",
    "    \n",
    "    def get_n_splits(self, X=None, y=None, groups=None):\n",
    "        return self.n_splits"
   ]
  },
  {
   "cell_type": "markdown",
   "metadata": {},
   "source": [
    "- `ArimaEstimator` - класс для поиска наиболее подходящей модели SARIMA  \n",
    "    Под капотом использует пошаговый поиск оптимальных параметров: `pmdarima.auto_arima`"
   ]
  },
  {
   "cell_type": "code",
   "execution_count": 3,
   "metadata": {},
   "outputs": [],
   "source": [
    "class ArimaEstimator(BaseEstimator, TransformerMixin):\n",
    "    def __init__(\n",
    "            self,\n",
    "            start_p: int, max_p: int,\n",
    "            d: int, max_d: int,\n",
    "            start_q: int, max_q: int,\n",
    "            start_P: int, max_P: int,\n",
    "            D: int, max_D: int,\n",
    "            start_Q: int, max_Q: int,\n",
    "            m: int,\n",
    "            IC: Optional[Literal['aic', 'aicc', 'bic', 'hqic', 'oob']] = 'aic',\n",
    "            trace: Union[bool, Literal['best']] = False):\n",
    "        self.start_p = start_p\n",
    "        self.max_p = max_p\n",
    "        self.d = d\n",
    "        self.max_d = max_d\n",
    "        self.start_q = start_q\n",
    "        self.max_q = max_q\n",
    "        self.start_P = start_P\n",
    "        self.max_P = max_P\n",
    "        self.D = D\n",
    "        self.max_D = max_D\n",
    "        self.start_Q = start_Q\n",
    "        self.max_Q = max_Q\n",
    "        self.m = m\n",
    "        self.IC = IC\n",
    "        if trace == 'best':\n",
    "            self.trace = False\n",
    "            self._best = True\n",
    "        else:\n",
    "            self._best = False\n",
    "            self.trace = trace\n",
    "        \n",
    "        self.model_: pmdarima.ARIMA = None\n",
    "    \n",
    "    def fit(self, X, y=None):\n",
    "        if y is None:\n",
    "            y = X\n",
    "        else:\n",
    "            X = check_array(X, ensure_2d=False)\n",
    "            y = check_array(y, ensure_2d=False)\n",
    "        \n",
    "        self.model_ = pmdarima.auto_arima(\n",
    "            y,\n",
    "            start_p=self.start_p, max_p=self.max_p,\n",
    "            d=self.d, max_d=self.max_d,\n",
    "            start_q=self.start_q, max_q=self.max_q,\n",
    "            start_P=self.start_P, max_P=self.max_P,\n",
    "            D=self.D, max_D=self.max_D,\n",
    "            start_Q=self.start_Q, max_Q=self.max_Q,\n",
    "            m=self.m,\n",
    "            trace=self.trace\n",
    "        )\n",
    "\n",
    "        if self._best:\n",
    "            print(f'Best model: {self.model_.order} - {self.model_.seasonal_order}; AIC: {getattr(self.model_, self.IC)():.2f}')\n",
    "\n",
    "        return self\n",
    "\n",
    "    \n",
    "    def predict(self, X, n_periods=None):\n",
    "        check_is_fitted(self)\n",
    "        if n_periods is None:\n",
    "            n_periods = len(X)\n",
    "        return self.model_.predict(n_periods=n_periods)\n",
    "    \n",
    "    def score(self, X, y=None, scoring=None, n_periods=None):\n",
    "        check_is_fitted(self)\n",
    "        if y is None:\n",
    "            y = X\n",
    "        predictions = self.predict(X, n_periods=n_periods)\n",
    "\n",
    "        if scoring is None:\n",
    "            raise ValueError(\"No scoring metric provided.\")\n",
    "        \n",
    "        if scoring == 'neg_mean_absolute_error':\n",
    "            return -mean_absolute_error(y, predictions)\n",
    "        elif scoring == 'neg_mean_squared_error':\n",
    "            return -mean_squared_error(y, predictions)\n",
    "        else:\n",
    "            raise ValueError(f\"Unsupported scoring method: {scoring}\")"
   ]
  },
  {
   "cell_type": "markdown",
   "metadata": {},
   "source": [
    "## 3. Подготовка данных"
   ]
  },
  {
   "cell_type": "code",
   "execution_count": 4,
   "metadata": {},
   "outputs": [
    {
     "data": {
      "text/html": [
       "<div>\n",
       "<style scoped>\n",
       "    .dataframe tbody tr th:only-of-type {\n",
       "        vertical-align: middle;\n",
       "    }\n",
       "\n",
       "    .dataframe tbody tr th {\n",
       "        vertical-align: top;\n",
       "    }\n",
       "\n",
       "    .dataframe thead th {\n",
       "        text-align: right;\n",
       "    }\n",
       "</style>\n",
       "<table border=\"1\" class=\"dataframe\">\n",
       "  <thead>\n",
       "    <tr style=\"text-align: right;\">\n",
       "      <th>Ticker</th>\n",
       "      <th>LKOH</th>\n",
       "      <th>ROSN</th>\n",
       "      <th>SIBN</th>\n",
       "      <th>SNGS</th>\n",
       "      <th>TATN</th>\n",
       "    </tr>\n",
       "    <tr>\n",
       "      <th>date</th>\n",
       "      <th></th>\n",
       "      <th></th>\n",
       "      <th></th>\n",
       "      <th></th>\n",
       "      <th></th>\n",
       "    </tr>\n",
       "  </thead>\n",
       "  <tbody>\n",
       "    <tr>\n",
       "      <th>2006-07-19</th>\n",
       "      <td>2266.55</td>\n",
       "      <td>203.95</td>\n",
       "      <td>118.50</td>\n",
       "      <td>39.598</td>\n",
       "      <td>119.60</td>\n",
       "    </tr>\n",
       "    <tr>\n",
       "      <th>2006-07-20</th>\n",
       "      <td>2265.00</td>\n",
       "      <td>203.26</td>\n",
       "      <td>121.50</td>\n",
       "      <td>39.300</td>\n",
       "      <td>123.19</td>\n",
       "    </tr>\n",
       "    <tr>\n",
       "      <th>2006-07-21</th>\n",
       "      <td>2231.20</td>\n",
       "      <td>202.00</td>\n",
       "      <td>118.85</td>\n",
       "      <td>39.148</td>\n",
       "      <td>124.51</td>\n",
       "    </tr>\n",
       "    <tr>\n",
       "      <th>2006-07-24</th>\n",
       "      <td>2260.00</td>\n",
       "      <td>201.99</td>\n",
       "      <td>120.00</td>\n",
       "      <td>39.500</td>\n",
       "      <td>126.90</td>\n",
       "    </tr>\n",
       "    <tr>\n",
       "      <th>2006-07-25</th>\n",
       "      <td>2240.00</td>\n",
       "      <td>202.69</td>\n",
       "      <td>119.10</td>\n",
       "      <td>39.300</td>\n",
       "      <td>131.65</td>\n",
       "    </tr>\n",
       "  </tbody>\n",
       "</table>\n",
       "</div>"
      ],
      "text/plain": [
       "Ticker         LKOH    ROSN    SIBN    SNGS    TATN\n",
       "date                                               \n",
       "2006-07-19  2266.55  203.95  118.50  39.598  119.60\n",
       "2006-07-20  2265.00  203.26  121.50  39.300  123.19\n",
       "2006-07-21  2231.20  202.00  118.85  39.148  124.51\n",
       "2006-07-24  2260.00  201.99  120.00  39.500  126.90\n",
       "2006-07-25  2240.00  202.69  119.10  39.300  131.65"
      ]
     },
     "execution_count": 4,
     "metadata": {},
     "output_type": "execute_result"
    }
   ],
   "source": [
    "df = pd.read_csv(r'.\\data\\df_tickers.csv', header=[0,1], index_col=0).sort_index(axis=1)\n",
    "df.index = pd.to_datetime(df.index, format='%Y-%m-%d')\n",
    "\n",
    "ts_df: pd.DataFrame = df.loc[: , idx[:, 'close']].dropna().droplevel(level=1, axis=1)\n",
    "ts_df.head()"
   ]
  },
  {
   "cell_type": "code",
   "execution_count": 530,
   "metadata": {},
   "outputs": [],
   "source": [
    "warnings.filterwarnings('ignore', category=InterpolationWarning)\n",
    "\n",
    "ts_df_d1 = ts_df.diff().dropna()\n",
    "alpha = 0.05\n",
    "\n",
    "cv = RandomTimeSplit(\n",
    "    train_window=60,\n",
    "    test_window=10,\n",
    "    n_samples=100,\n",
    "    random_state=42\n",
    ").split(ts_df_d1)"
   ]
  },
  {
   "cell_type": "code",
   "execution_count": 560,
   "metadata": {},
   "outputs": [
    {
     "name": "stdout",
     "output_type": "stream",
     "text": [
      "First differences: [ADF, PP, KPSS, VAR]\n",
      "LKOH is stationary: [ YES | YES | YES | NO ]\n",
      "ROSN is stationary: [ YES | YES | YES | NO ]\n",
      "SIBN is stationary: [ YES | YES | YES | NO ]\n",
      "SNGS is stationary: [ YES | YES | YES | NO ]\n",
      "TATN is stationary: [ YES | YES | YES | NO ]\n"
     ]
    }
   ],
   "source": [
    "# temp_df = ts_df_d1.iloc[np.concatenate((next(cv)))]\n",
    "temp_df = ts_df_d1\n",
    "\n",
    "print('First differences: [ADF, PP, KPSS, VAR]')\n",
    "for column in temp_df.columns:\n",
    "    adf_res = 'YES' if adfuller(temp_df[column])[1] <= alpha else 'NO'\n",
    "    pp_res = 'YES' if adfuller(temp_df[column], regression='ct', autolag='AIC')[1] <= alpha else 'NO'\n",
    "    kpss_res = 'YES' if kpss(temp_df[column])[1] > alpha else 'NO'\n",
    "    var_res = 'YES' if VarianceRatio(temp_df[column]).pvalue > alpha else 'NO'\n",
    "    \n",
    "    print(f'{column} is stationary: [ {adf_res:3} | {pp_res:3} | {kpss_res:3} | {var_res:3}]')"
   ]
  },
  {
   "cell_type": "markdown",
   "metadata": {},
   "source": [
    "Взятия первых разностей хватает для приведения ряда к стационарному виду, согласно тестам `ADF`, `PP`, `KPSS`  \n",
    "Тест на стационарность дисперсии `VAR`, закономерно, выявил, что со временем она изменяется\n",
    "\n",
    "Если же анализировать некоторые части временного ряда длины $70$ (почему такие - описано ниже), то ситуация в целом аналогичная."
   ]
  },
  {
   "cell_type": "markdown",
   "metadata": {},
   "source": [
    "## 4. Baseline модель"
   ]
  },
  {
   "cell_type": "markdown",
   "metadata": {},
   "source": [
    "В качестве базовой модели была выбрана `SARIMA`. Как правило, цель прогнозирования стоимости акций носит краткосрочный характер.  \n",
    "Мы сочли нецелесообразным подгонку модели под весь временной ряд каждого из тикеров по ряду причин:\n",
    "- С течением времени закономерности могли меняться, а `SARIMA` предполагает постоянные во времени коэффициенты\n",
    "- В различные промежутки времени были резкие взлеты и падения, и если передать такие данные в модель,  \n",
    "    то самыми оптимальными коэффициентами окажутся нули, и модель будет давать константный прогноз.\n",
    "\n",
    "\\* Данное ограничение, вероятно, будет пересмотрено, когда для моделирования будут применяться экзогенные переменные\n",
    "\n",
    "Поэтому был выбран следующий принцип работы базовой модели:\n",
    "- На вход подаются последние $60$ имеющихся значений (более 2 месяцев данных)\n",
    "- На этих данных обучается наиболее оптимальная модель `SARIMA`\n",
    "    - В основе сравнения качества модели лежит критерий `AIC`\n",
    "- Полученная модель используется для построения прогноза на $10$ значений вперед (около полутора недель)\n",
    "\n",
    "Указанный алгоритм был обернут в кросс-валидацию `cross_val_score`\n",
    "- Из ряда выбирается `n` ($100$) случайных промежутков длиной $70$\n",
    "- Для каждого участка рассчитывается MAE на тестовой выборке"
   ]
  },
  {
   "cell_type": "code",
   "execution_count": 5,
   "metadata": {},
   "outputs": [
    {
     "name": "stdout",
     "output_type": "stream",
     "text": [
      "__________LKOH__________\n",
      "MAE on 100 samples (60/10): 128.39\n",
      "STD of MAE: 118.53\n"
     ]
    },
    {
     "data": {
      "image/png": "[encoded data removed]",
      "text/plain": [
       "<Figure size 640x480 with 1 Axes>"
      ]
     },
     "metadata": {},
     "output_type": "display_data"
    },
    {
     "name": "stdout",
     "output_type": "stream",
     "text": [
      "__________ROSN__________\n",
      "MAE on 100 samples (60/10): 13.19\n",
      "STD of MAE: 12.91\n"
     ]
    },
    {
     "data": {
      "image/png": "[encoded data removed]",
      "text/plain": [
       "<Figure size 640x480 with 1 Axes>"
      ]
     },
     "metadata": {},
     "output_type": "display_data"
    },
    {
     "name": "stdout",
     "output_type": "stream",
     "text": [
      "__________SIBN__________\n",
      "MAE on 100 samples (60/10): 9.94\n",
      "STD of MAE: 12.08\n"
     ]
    },
    {
     "data": {
      "image/png": "[encoded data removed]",
      "text/plain": [
       "<Figure size 640x480 with 1 Axes>"
      ]
     },
     "metadata": {},
     "output_type": "display_data"
    },
    {
     "name": "stdout",
     "output_type": "stream",
     "text": [
      "__________SNGS__________\n",
      "MAE on 100 samples (60/10): 1.24\n",
      "STD of MAE: 1.11\n"
     ]
    },
    {
     "data": {
      "image/png": "[encoded data removed]",
      "text/plain": [
       "<Figure size 640x480 with 1 Axes>"
      ]
     },
     "metadata": {},
     "output_type": "display_data"
    },
    {
     "name": "stdout",
     "output_type": "stream",
     "text": [
      "__________TATN__________\n",
      "MAE on 100 samples (60/10): 14.47\n",
      "STD of MAE: 13.22\n"
     ]
    },
    {
     "data": {
      "image/png": "[encoded data removed]",
      "text/plain": [
       "<Figure size 640x480 with 1 Axes>"
      ]
     },
     "metadata": {},
     "output_type": "display_data"
    }
   ],
   "source": [
    "warnings.filterwarnings('ignore', category=pmdarima.warnings.ModelFitWarning)\n",
    "\n",
    "n_samples = 100\n",
    "train_window = 60\n",
    "test_window = 10\n",
    "\n",
    "cv = RandomTimeSplit(\n",
    "    train_window=train_window,\n",
    "    test_window=test_window,\n",
    "    n_samples=n_samples,\n",
    "    random_state=42\n",
    ")\n",
    "\n",
    "arima_estimator = ArimaEstimator(\n",
    "    start_p=0, max_p=5, \n",
    "    d=1, max_d=2, \n",
    "    start_q=0, max_q=5, \n",
    "    start_P=0, max_P=3,\n",
    "    D=1, max_D=1, \n",
    "    start_Q=0, max_Q=3,\n",
    "    m=7,\n",
    "    trace=False\n",
    ")\n",
    "\n",
    "def crossval():\n",
    "    for col in ts_df:\n",
    "        X = ts_df[[col]]\n",
    "\n",
    "        scores = cross_val_score(\n",
    "            arima_estimator, \n",
    "            X, y=X,\n",
    "            cv=cv, \n",
    "            scoring='neg_mean_absolute_error'\n",
    "        )\n",
    "\n",
    "        print(f'__________{col}__________')\n",
    "        print(f'MAE on {n_samples} samples ({train_window}/{test_window}): {scores.mean()*(-1):.2f}')\n",
    "        print(f'STD of MAE: {scores.std():.2f}')\n",
    "\n",
    "        plt.figure(figsize=(10, 4))\n",
    "        plt.hist(scores*(-1), density=False, bins=1 + int(np.floor(np.log2(len(scores))))) # Sturges's rule\n",
    "        plt.title(f'MAE of {col} predictions')\n",
    "        plt.show()\n",
    "\n",
    "# takes quite a long time\n",
    "\n",
    "# crossval()"
   ]
  },
  {
   "cell_type": "markdown",
   "metadata": {},
   "source": [
    "Полученные ошибки будут взяты за основу при оценке качества других моделей.  \n",
    "Однако стоит отметить несколько важных моментов:\n",
    "- Прогнозные значения `ARIMA` зачастую сильнее отличаются от реальных значений на более удаленных шагах прогнозирования.  \n",
    "    Поэтому, возможно, будет иметь смысл оценить не просто среднюю ошибку на прогнозе вперед на $10$ дней,  \n",
    "    а рассмотреть различные горизонты этого прогнозирования.\n",
    "- При построении более соверщенных моделей, возможно, потребуется учитывать долгосрочную динамику, тогда от механизма  \n",
    "    кросс-валидации в текущем его исполнении придется скорее всего отказаться. Предположительно, нужно будет  \n",
    "    оставить те же самые тестовые временные периоды, но саму модель обучать на всех данных до конкретного тестового периода."
   ]
  }
 ],
 "metadata": {
  "kernelspec": {
   "display_name": ".venv",
   "language": "python",
   "name": "python3"
  },
  "language_info": {
   "codemirror_mode": {
    "name": "ipython",
    "version": 3
   },
   "file_extension": ".py",
   "mimetype": "text/x-python",
   "name": "python",
   "nbconvert_exporter": "python",
   "pygments_lexer": "ipython3",
   "version": "3.10.15"
  }
 },
 "nbformat": 4,
 "nbformat_minor": 2
}
