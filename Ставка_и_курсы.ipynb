{
  "nbformat": 4,
  "nbformat_minor": 0,
  "metadata": {
    "colab": {
      "provenance": []
    },
    "kernelspec": {
      "name": "python3",
      "display_name": "Python 3"
    },
    "language_info": {
      "name": "python"
    }
  },
  "cells": [
    {
      "cell_type": "code",
      "source": [
        "import pandas as pd\n",
        "import numpy as np"
      ],
      "metadata": {
        "id": "bF0EmpQuIS8v"
      },
      "execution_count": null,
      "outputs": []
    },
    {
      "cell_type": "code",
      "source": [
        "old_rate = pd.read_excel(\"/content/IR_CHG_MPOFull.xlsx\", usecols='A:B,BL', header=2, dtype={'a':'datetime64[utc]', 'b':np.float64, 'bl':np.float64}).iloc[38:170].dropna()\n",
        "old_rate['Дата'] = old_rate['Дата'].apply(pd.to_datetime)"
      ],
      "metadata": {
        "id": "i9a8kiC8Qlff"
      },
      "execution_count": null,
      "outputs": []
    },
    {
      "cell_type": "code",
      "source": [
        "old_rate = old_rate.set_index('Дата')"
      ],
      "metadata": {
        "id": "KpMsVBCAe4G-"
      },
      "execution_count": null,
      "outputs": []
    },
    {
      "cell_type": "code",
      "source": [
        "old_rate = old_rate[\"Ставка рефинансирования\"][old_rate.index <= pd.to_datetime('2013-09-16')]"
      ],
      "metadata": {
        "id": "Xp58Ey3whDON"
      },
      "execution_count": null,
      "outputs": []
    },
    {
      "cell_type": "code",
      "source": [
        "old_rate = old_rate.resample('D').ffill()\n",
        "old_rate"
      ],
      "metadata": {
        "colab": {
          "base_uri": "https://localhost:8080/",
          "height": 490
        },
        "id": "y264N_QwiCId",
        "outputId": "8d9f2a26-b49c-4b4c-e782-3d4349309c7d"
      },
      "execution_count": null,
      "outputs": [
        {
          "output_type": "execute_result",
          "data": {
            "text/plain": [
              "Дата\n",
              "2006-06-26    11.50\n",
              "2006-06-27    11.50\n",
              "2006-06-28    11.50\n",
              "2006-06-29    11.50\n",
              "2006-06-30    11.50\n",
              "              ...  \n",
              "2013-09-12     8.25\n",
              "2013-09-13     8.25\n",
              "2013-09-14     8.25\n",
              "2013-09-15     8.25\n",
              "2013-09-16     8.25\n",
              "Freq: D, Name: Ставка рефинансирования, Length: 2640, dtype: float64"
            ],
            "text/html": [
              "<div>\n",
              "<style scoped>\n",
              "    .dataframe tbody tr th:only-of-type {\n",
              "        vertical-align: middle;\n",
              "    }\n",
              "\n",
              "    .dataframe tbody tr th {\n",
              "        vertical-align: top;\n",
              "    }\n",
              "\n",
              "    .dataframe thead th {\n",
              "        text-align: right;\n",
              "    }\n",
              "</style>\n",
              "<table border=\"1\" class=\"dataframe\">\n",
              "  <thead>\n",
              "    <tr style=\"text-align: right;\">\n",
              "      <th></th>\n",
              "      <th>Ставка рефинансирования</th>\n",
              "    </tr>\n",
              "    <tr>\n",
              "      <th>Дата</th>\n",
              "      <th></th>\n",
              "    </tr>\n",
              "  </thead>\n",
              "  <tbody>\n",
              "    <tr>\n",
              "      <th>2006-06-26</th>\n",
              "      <td>11.50</td>\n",
              "    </tr>\n",
              "    <tr>\n",
              "      <th>2006-06-27</th>\n",
              "      <td>11.50</td>\n",
              "    </tr>\n",
              "    <tr>\n",
              "      <th>2006-06-28</th>\n",
              "      <td>11.50</td>\n",
              "    </tr>\n",
              "    <tr>\n",
              "      <th>2006-06-29</th>\n",
              "      <td>11.50</td>\n",
              "    </tr>\n",
              "    <tr>\n",
              "      <th>2006-06-30</th>\n",
              "      <td>11.50</td>\n",
              "    </tr>\n",
              "    <tr>\n",
              "      <th>...</th>\n",
              "      <td>...</td>\n",
              "    </tr>\n",
              "    <tr>\n",
              "      <th>2013-09-12</th>\n",
              "      <td>8.25</td>\n",
              "    </tr>\n",
              "    <tr>\n",
              "      <th>2013-09-13</th>\n",
              "      <td>8.25</td>\n",
              "    </tr>\n",
              "    <tr>\n",
              "      <th>2013-09-14</th>\n",
              "      <td>8.25</td>\n",
              "    </tr>\n",
              "    <tr>\n",
              "      <th>2013-09-15</th>\n",
              "      <td>8.25</td>\n",
              "    </tr>\n",
              "    <tr>\n",
              "      <th>2013-09-16</th>\n",
              "      <td>8.25</td>\n",
              "    </tr>\n",
              "  </tbody>\n",
              "</table>\n",
              "<p>2640 rows × 1 columns</p>\n",
              "</div><br><label><b>dtype:</b> float64</label>"
            ]
          },
          "metadata": {},
          "execution_count": 5
        }
      ]
    },
    {
      "cell_type": "code",
      "source": [
        "old_rate = old_rate[old_rate.index >= pd.to_datetime('2006-07-18')]"
      ],
      "metadata": {
        "id": "KXGuqmoWl3Y9"
      },
      "execution_count": null,
      "outputs": []
    },
    {
      "cell_type": "code",
      "source": [
        "old_rate"
      ],
      "metadata": {
        "colab": {
          "base_uri": "https://localhost:8080/",
          "height": 490
        },
        "id": "6sGSF_1Kl-W1",
        "outputId": "a876ed61-f829-4f8c-ad6c-85086ba02b6c"
      },
      "execution_count": null,
      "outputs": [
        {
          "output_type": "execute_result",
          "data": {
            "text/plain": [
              "Дата\n",
              "2006-07-18    11.50\n",
              "2006-07-19    11.50\n",
              "2006-07-20    11.50\n",
              "2006-07-21    11.50\n",
              "2006-07-22    11.50\n",
              "              ...  \n",
              "2013-09-12     8.25\n",
              "2013-09-13     8.25\n",
              "2013-09-14     8.25\n",
              "2013-09-15     8.25\n",
              "2013-09-16     8.25\n",
              "Freq: D, Name: Ставка рефинансирования, Length: 2618, dtype: float64"
            ],
            "text/html": [
              "<div>\n",
              "<style scoped>\n",
              "    .dataframe tbody tr th:only-of-type {\n",
              "        vertical-align: middle;\n",
              "    }\n",
              "\n",
              "    .dataframe tbody tr th {\n",
              "        vertical-align: top;\n",
              "    }\n",
              "\n",
              "    .dataframe thead th {\n",
              "        text-align: right;\n",
              "    }\n",
              "</style>\n",
              "<table border=\"1\" class=\"dataframe\">\n",
              "  <thead>\n",
              "    <tr style=\"text-align: right;\">\n",
              "      <th></th>\n",
              "      <th>Ставка рефинансирования</th>\n",
              "    </tr>\n",
              "    <tr>\n",
              "      <th>Дата</th>\n",
              "      <th></th>\n",
              "    </tr>\n",
              "  </thead>\n",
              "  <tbody>\n",
              "    <tr>\n",
              "      <th>2006-07-18</th>\n",
              "      <td>11.50</td>\n",
              "    </tr>\n",
              "    <tr>\n",
              "      <th>2006-07-19</th>\n",
              "      <td>11.50</td>\n",
              "    </tr>\n",
              "    <tr>\n",
              "      <th>2006-07-20</th>\n",
              "      <td>11.50</td>\n",
              "    </tr>\n",
              "    <tr>\n",
              "      <th>2006-07-21</th>\n",
              "      <td>11.50</td>\n",
              "    </tr>\n",
              "    <tr>\n",
              "      <th>2006-07-22</th>\n",
              "      <td>11.50</td>\n",
              "    </tr>\n",
              "    <tr>\n",
              "      <th>...</th>\n",
              "      <td>...</td>\n",
              "    </tr>\n",
              "    <tr>\n",
              "      <th>2013-09-12</th>\n",
              "      <td>8.25</td>\n",
              "    </tr>\n",
              "    <tr>\n",
              "      <th>2013-09-13</th>\n",
              "      <td>8.25</td>\n",
              "    </tr>\n",
              "    <tr>\n",
              "      <th>2013-09-14</th>\n",
              "      <td>8.25</td>\n",
              "    </tr>\n",
              "    <tr>\n",
              "      <th>2013-09-15</th>\n",
              "      <td>8.25</td>\n",
              "    </tr>\n",
              "    <tr>\n",
              "      <th>2013-09-16</th>\n",
              "      <td>8.25</td>\n",
              "    </tr>\n",
              "  </tbody>\n",
              "</table>\n",
              "<p>2618 rows × 1 columns</p>\n",
              "</div><br><label><b>dtype:</b> float64</label>"
            ]
          },
          "metadata": {},
          "execution_count": 7
        }
      ]
    },
    {
      "cell_type": "code",
      "source": [
        "old_rate = old_rate.drop(old_rate.tail(1).index)\n",
        "old_rate"
      ],
      "metadata": {
        "colab": {
          "base_uri": "https://localhost:8080/",
          "height": 490
        },
        "id": "lmw-00ySphXF",
        "outputId": "aa87c86f-b582-4bc5-eb71-8a49d4ef9a24"
      },
      "execution_count": null,
      "outputs": [
        {
          "output_type": "execute_result",
          "data": {
            "text/plain": [
              "Дата\n",
              "2006-07-18    11.50\n",
              "2006-07-19    11.50\n",
              "2006-07-20    11.50\n",
              "2006-07-21    11.50\n",
              "2006-07-22    11.50\n",
              "              ...  \n",
              "2013-09-11     8.25\n",
              "2013-09-12     8.25\n",
              "2013-09-13     8.25\n",
              "2013-09-14     8.25\n",
              "2013-09-15     8.25\n",
              "Freq: D, Name: Ставка рефинансирования, Length: 2617, dtype: float64"
            ],
            "text/html": [
              "<div>\n",
              "<style scoped>\n",
              "    .dataframe tbody tr th:only-of-type {\n",
              "        vertical-align: middle;\n",
              "    }\n",
              "\n",
              "    .dataframe tbody tr th {\n",
              "        vertical-align: top;\n",
              "    }\n",
              "\n",
              "    .dataframe thead th {\n",
              "        text-align: right;\n",
              "    }\n",
              "</style>\n",
              "<table border=\"1\" class=\"dataframe\">\n",
              "  <thead>\n",
              "    <tr style=\"text-align: right;\">\n",
              "      <th></th>\n",
              "      <th>Ставка рефинансирования</th>\n",
              "    </tr>\n",
              "    <tr>\n",
              "      <th>Дата</th>\n",
              "      <th></th>\n",
              "    </tr>\n",
              "  </thead>\n",
              "  <tbody>\n",
              "    <tr>\n",
              "      <th>2006-07-18</th>\n",
              "      <td>11.50</td>\n",
              "    </tr>\n",
              "    <tr>\n",
              "      <th>2006-07-19</th>\n",
              "      <td>11.50</td>\n",
              "    </tr>\n",
              "    <tr>\n",
              "      <th>2006-07-20</th>\n",
              "      <td>11.50</td>\n",
              "    </tr>\n",
              "    <tr>\n",
              "      <th>2006-07-21</th>\n",
              "      <td>11.50</td>\n",
              "    </tr>\n",
              "    <tr>\n",
              "      <th>2006-07-22</th>\n",
              "      <td>11.50</td>\n",
              "    </tr>\n",
              "    <tr>\n",
              "      <th>...</th>\n",
              "      <td>...</td>\n",
              "    </tr>\n",
              "    <tr>\n",
              "      <th>2013-09-11</th>\n",
              "      <td>8.25</td>\n",
              "    </tr>\n",
              "    <tr>\n",
              "      <th>2013-09-12</th>\n",
              "      <td>8.25</td>\n",
              "    </tr>\n",
              "    <tr>\n",
              "      <th>2013-09-13</th>\n",
              "      <td>8.25</td>\n",
              "    </tr>\n",
              "    <tr>\n",
              "      <th>2013-09-14</th>\n",
              "      <td>8.25</td>\n",
              "    </tr>\n",
              "    <tr>\n",
              "      <th>2013-09-15</th>\n",
              "      <td>8.25</td>\n",
              "    </tr>\n",
              "  </tbody>\n",
              "</table>\n",
              "<p>2617 rows × 1 columns</p>\n",
              "</div><br><label><b>dtype:</b> float64</label>"
            ]
          },
          "metadata": {},
          "execution_count": 8
        }
      ]
    },
    {
      "cell_type": "code",
      "source": [
        "import requests\n",
        "url = \"https://cbr.ru/DailyInfoWebServ/DailyInfo.asmx\"\n",
        "payload = \"\"\"<?xml version=\"1.0\" encoding=\"utf-8\"?>\n",
        "            <soap:Envelope xmlns:xsi=\"http://www.w3.org/2001/XMLSchema-instance\" xmlns:xsd=\"http://www.w3.org/2001/XMLSchema\" xmlns:soap=\"http://schemas.xmlsoap.org/soap/envelope/\">\n",
        "              <soap:Body>\n",
        "                <KeyRateXML xmlns=\"http://web.cbr.ru/\">\n",
        "                  <fromDate>2013-09-16</fromDate>\n",
        "                  <ToDate>2024-11-03</ToDate>\n",
        "                </KeyRateXML>\n",
        "              </soap:Body>\n",
        "            </soap:Envelope>\"\"\"\n",
        "\n",
        "headers = {\n",
        "    'Content-Type': 'text/xml; charset=utf-8'\n",
        "}\n",
        "response = requests.request(\"POST\", url, headers=headers, data=payload)"
      ],
      "metadata": {
        "id": "EHEr2MxRp6fF"
      },
      "execution_count": null,
      "outputs": []
    },
    {
      "cell_type": "code",
      "source": [
        "from lxml import etree"
      ],
      "metadata": {
        "id": "a5_bqs-jsF9M"
      },
      "execution_count": null,
      "outputs": []
    },
    {
      "cell_type": "code",
      "source": [
        "rates = [float(kr[1].text) for kr in etree.fromstring(response.text.encode()).iter('KR')]\n",
        "timestamps = [pd.to_datetime(kr[0].text,utc=True) for kr in etree.fromstring(response.text.encode()).iter('KR')]"
      ],
      "metadata": {
        "id": "ehJEnP_1sPLk"
      },
      "execution_count": null,
      "outputs": []
    },
    {
      "cell_type": "code",
      "source": [
        "old_rate"
      ],
      "metadata": {
        "colab": {
          "base_uri": "https://localhost:8080/",
          "height": 490
        },
        "id": "FL_Ekep-t0U2",
        "outputId": "02d67d8e-6844-465d-ad3e-057b3f95ac72"
      },
      "execution_count": null,
      "outputs": [
        {
          "output_type": "execute_result",
          "data": {
            "text/plain": [
              "Дата\n",
              "2006-07-18    11.50\n",
              "2006-07-19    11.50\n",
              "2006-07-20    11.50\n",
              "2006-07-21    11.50\n",
              "2006-07-22    11.50\n",
              "              ...  \n",
              "2013-09-11     8.25\n",
              "2013-09-12     8.25\n",
              "2013-09-13     8.25\n",
              "2013-09-14     8.25\n",
              "2013-09-15     8.25\n",
              "Freq: D, Name: Ставка рефинансирования, Length: 2617, dtype: float64"
            ],
            "text/html": [
              "<div>\n",
              "<style scoped>\n",
              "    .dataframe tbody tr th:only-of-type {\n",
              "        vertical-align: middle;\n",
              "    }\n",
              "\n",
              "    .dataframe tbody tr th {\n",
              "        vertical-align: top;\n",
              "    }\n",
              "\n",
              "    .dataframe thead th {\n",
              "        text-align: right;\n",
              "    }\n",
              "</style>\n",
              "<table border=\"1\" class=\"dataframe\">\n",
              "  <thead>\n",
              "    <tr style=\"text-align: right;\">\n",
              "      <th></th>\n",
              "      <th>Ставка рефинансирования</th>\n",
              "    </tr>\n",
              "    <tr>\n",
              "      <th>Дата</th>\n",
              "      <th></th>\n",
              "    </tr>\n",
              "  </thead>\n",
              "  <tbody>\n",
              "    <tr>\n",
              "      <th>2006-07-18</th>\n",
              "      <td>11.50</td>\n",
              "    </tr>\n",
              "    <tr>\n",
              "      <th>2006-07-19</th>\n",
              "      <td>11.50</td>\n",
              "    </tr>\n",
              "    <tr>\n",
              "      <th>2006-07-20</th>\n",
              "      <td>11.50</td>\n",
              "    </tr>\n",
              "    <tr>\n",
              "      <th>2006-07-21</th>\n",
              "      <td>11.50</td>\n",
              "    </tr>\n",
              "    <tr>\n",
              "      <th>2006-07-22</th>\n",
              "      <td>11.50</td>\n",
              "    </tr>\n",
              "    <tr>\n",
              "      <th>...</th>\n",
              "      <td>...</td>\n",
              "    </tr>\n",
              "    <tr>\n",
              "      <th>2013-09-11</th>\n",
              "      <td>8.25</td>\n",
              "    </tr>\n",
              "    <tr>\n",
              "      <th>2013-09-12</th>\n",
              "      <td>8.25</td>\n",
              "    </tr>\n",
              "    <tr>\n",
              "      <th>2013-09-13</th>\n",
              "      <td>8.25</td>\n",
              "    </tr>\n",
              "    <tr>\n",
              "      <th>2013-09-14</th>\n",
              "      <td>8.25</td>\n",
              "    </tr>\n",
              "    <tr>\n",
              "      <th>2013-09-15</th>\n",
              "      <td>8.25</td>\n",
              "    </tr>\n",
              "  </tbody>\n",
              "</table>\n",
              "<p>2617 rows × 1 columns</p>\n",
              "</div><br><label><b>dtype:</b> float64</label>"
            ]
          },
          "metadata": {},
          "execution_count": 12
        }
      ]
    },
    {
      "cell_type": "code",
      "source": [
        "rate = pd.concat([old_rate, pd.Series(data=rates, index=pd.to_datetime(timestamps,utc=True)).iloc[::-1].resample('1D').ffill().bfill()], names=['Дата', \"Ставка\"])\n",
        "rate"
      ],
      "metadata": {
        "colab": {
          "base_uri": "https://localhost:8080/",
          "height": 458
        },
        "id": "t56heyXftcWk",
        "outputId": "61455a9e-1c24-4e0e-cb50-0ff6d5f5dd1c"
      },
      "execution_count": null,
      "outputs": [
        {
          "output_type": "execute_result",
          "data": {
            "text/plain": [
              "2006-07-18 00:00:00          11.5\n",
              "2006-07-19 00:00:00          11.5\n",
              "2006-07-20 00:00:00          11.5\n",
              "2006-07-21 00:00:00          11.5\n",
              "2006-07-22 00:00:00          11.5\n",
              "                             ... \n",
              "2024-10-28 00:00:00+00:00    21.0\n",
              "2024-10-29 00:00:00+00:00    21.0\n",
              "2024-10-30 00:00:00+00:00    21.0\n",
              "2024-10-31 00:00:00+00:00    21.0\n",
              "2024-11-01 00:00:00+00:00    21.0\n",
              "Length: 6682, dtype: float64"
            ],
            "text/html": [
              "<div>\n",
              "<style scoped>\n",
              "    .dataframe tbody tr th:only-of-type {\n",
              "        vertical-align: middle;\n",
              "    }\n",
              "\n",
              "    .dataframe tbody tr th {\n",
              "        vertical-align: top;\n",
              "    }\n",
              "\n",
              "    .dataframe thead th {\n",
              "        text-align: right;\n",
              "    }\n",
              "</style>\n",
              "<table border=\"1\" class=\"dataframe\">\n",
              "  <thead>\n",
              "    <tr style=\"text-align: right;\">\n",
              "      <th></th>\n",
              "      <th>0</th>\n",
              "    </tr>\n",
              "  </thead>\n",
              "  <tbody>\n",
              "    <tr>\n",
              "      <th>2006-07-18 00:00:00</th>\n",
              "      <td>11.5</td>\n",
              "    </tr>\n",
              "    <tr>\n",
              "      <th>2006-07-19 00:00:00</th>\n",
              "      <td>11.5</td>\n",
              "    </tr>\n",
              "    <tr>\n",
              "      <th>2006-07-20 00:00:00</th>\n",
              "      <td>11.5</td>\n",
              "    </tr>\n",
              "    <tr>\n",
              "      <th>2006-07-21 00:00:00</th>\n",
              "      <td>11.5</td>\n",
              "    </tr>\n",
              "    <tr>\n",
              "      <th>2006-07-22 00:00:00</th>\n",
              "      <td>11.5</td>\n",
              "    </tr>\n",
              "    <tr>\n",
              "      <th>...</th>\n",
              "      <td>...</td>\n",
              "    </tr>\n",
              "    <tr>\n",
              "      <th>2024-10-28 00:00:00+00:00</th>\n",
              "      <td>21.0</td>\n",
              "    </tr>\n",
              "    <tr>\n",
              "      <th>2024-10-29 00:00:00+00:00</th>\n",
              "      <td>21.0</td>\n",
              "    </tr>\n",
              "    <tr>\n",
              "      <th>2024-10-30 00:00:00+00:00</th>\n",
              "      <td>21.0</td>\n",
              "    </tr>\n",
              "    <tr>\n",
              "      <th>2024-10-31 00:00:00+00:00</th>\n",
              "      <td>21.0</td>\n",
              "    </tr>\n",
              "    <tr>\n",
              "      <th>2024-11-01 00:00:00+00:00</th>\n",
              "      <td>21.0</td>\n",
              "    </tr>\n",
              "  </tbody>\n",
              "</table>\n",
              "<p>6682 rows × 1 columns</p>\n",
              "</div><br><label><b>dtype:</b> float64</label>"
            ]
          },
          "metadata": {},
          "execution_count": 13
        }
      ]
    },
    {
      "cell_type": "code",
      "source": [
        "rate.to_csv('rate.csv', header=False)"
      ],
      "metadata": {
        "id": "QvMQ24WEmgyp"
      },
      "execution_count": null,
      "outputs": []
    },
    {
      "cell_type": "code",
      "source": [
        "first = set(rate.index)"
      ],
      "metadata": {
        "id": "FRQ1YT65Ms5a"
      },
      "execution_count": null,
      "outputs": []
    },
    {
      "cell_type": "code",
      "source": [
        "import requests\n",
        "def get_val_curs(code):\n",
        "    url = \"https://cbr.ru/DailyInfoWebServ/DailyInfo.asmx\"\n",
        "    payload = f\"\"\"<?xml version=\"1.0\" encoding=\"utf-8\"?>\n",
        "    <soap12:Envelope xmlns:xsi=\"http://www.w3.org/2001/XMLSchema-instance\" xmlns:xsd=\"http://www.w3.org/2001/XMLSchema\" xmlns:soap12=\"http://www.w3.org/2003/05/soap-envelope\">\n",
        "      <soap12:Body>\n",
        "        <GetCursDynamic xmlns=\"http://web.cbr.ru/\">\n",
        "          <FromDate>2006-07-18</FromDate>\n",
        "          <ToDate>2024-11-03</ToDate>\n",
        "          <ValutaCode>{code}</ValutaCode>\n",
        "        </GetCursDynamic>\n",
        "      </soap12:Body>\n",
        "    </soap12:Envelope>\"\"\"\n",
        "\n",
        "    headers = {\n",
        "        'Content-Type': 'text/xml; charset=utf-8'\n",
        "    }\n",
        "    response = requests.request(\"POST\", url, headers=headers, data=payload)\n",
        "    tree = etree.fromstring(response.text.encode())\n",
        "    dates = [pd.to_datetime(i.text) for i in tree.iter('CursDate')]\n",
        "    curses = [float(i.text) for i in tree.iter('VunitRate')]\n",
        "    return dates, curses"
      ],
      "metadata": {
        "id": "zCKLgs3EwNXc"
      },
      "execution_count": null,
      "outputs": []
    },
    {
      "cell_type": "code",
      "source": [
        "codes = ['R01235', 'R01239', 'R01375']\n",
        "data = [get_val_curs(i) for i in codes]"
      ],
      "metadata": {
        "id": "Rxoc1IzmA5cE"
      },
      "execution_count": null,
      "outputs": []
    },
    {
      "cell_type": "code",
      "source": [
        "df = pd.DataFrame(data=[data[0][1], data[1][1], data[2][1]]).T\n",
        "df = df.rename(columns={0:\"Доллар\",1:\"Евро\",2:\"Юань\"})\n",
        "df = df.set_index(pd.to_datetime(data[0][0], utc=True)).resample('D').ffill().bfill()\n",
        "df.to_csv('currencies.csv')"
      ],
      "metadata": {
        "id": "pDSj4xCQBiSq"
      },
      "execution_count": null,
      "outputs": []
    },
    {
      "cell_type": "code",
      "source": [
        "df['Ставка'] = rate"
      ],
      "metadata": {
        "id": "9cZMX2EGNeSb"
      },
      "execution_count": null,
      "outputs": []
    },
    {
      "cell_type": "code",
      "source": [
        "df"
      ],
      "metadata": {
        "colab": {
          "base_uri": "https://localhost:8080/",
          "height": 424
        },
        "id": "ddPbS_NLPxKj",
        "outputId": "5f1ed8c2-4cb2-44bd-b32f-580c14263e03"
      },
      "execution_count": null,
      "outputs": [
        {
          "output_type": "execute_result",
          "data": {
            "text/plain": [
              "                            Доллар      Евро      Юань  Ставка\n",
              "2006-07-17 00:00:00+00:00  26.9277   34.0151   3.36689     NaN\n",
              "2006-07-18 00:00:00+00:00  26.9277   34.0151   3.36689     NaN\n",
              "2006-07-19 00:00:00+00:00  27.0194   33.8661   3.37489     NaN\n",
              "2006-07-20 00:00:00+00:00  27.0554   33.8247   3.38023     NaN\n",
              "2006-07-21 00:00:00+00:00  26.9674   33.9789   3.37261     NaN\n",
              "...                            ...       ...       ...     ...\n",
              "2024-10-29 00:00:00+00:00  97.2300  105.2229  13.61030    21.0\n",
              "2024-10-30 00:00:00+00:00  97.3261  105.4375  13.59540    21.0\n",
              "2024-10-31 00:00:00+00:00  97.0530  105.2211  13.58760    21.0\n",
              "2024-11-01 00:00:00+00:00  97.0226  105.5231  13.60680    21.0\n",
              "2024-11-02 00:00:00+00:00  97.4402  105.8415  13.63940     NaN\n",
              "\n",
              "[6684 rows x 4 columns]"
            ],
            "text/html": [
              "\n",
              "  <div id=\"df-c84df9b6-f405-4fb3-b910-abaa6f8e2cce\" class=\"colab-df-container\">\n",
              "    <div>\n",
              "<style scoped>\n",
              "    .dataframe tbody tr th:only-of-type {\n",
              "        vertical-align: middle;\n",
              "    }\n",
              "\n",
              "    .dataframe tbody tr th {\n",
              "        vertical-align: top;\n",
              "    }\n",
              "\n",
              "    .dataframe thead th {\n",
              "        text-align: right;\n",
              "    }\n",
              "</style>\n",
              "<table border=\"1\" class=\"dataframe\">\n",
              "  <thead>\n",
              "    <tr style=\"text-align: right;\">\n",
              "      <th></th>\n",
              "      <th>Доллар</th>\n",
              "      <th>Евро</th>\n",
              "      <th>Юань</th>\n",
              "      <th>Ставка</th>\n",
              "    </tr>\n",
              "  </thead>\n",
              "  <tbody>\n",
              "    <tr>\n",
              "      <th>2006-07-17 00:00:00+00:00</th>\n",
              "      <td>26.9277</td>\n",
              "      <td>34.0151</td>\n",
              "      <td>3.36689</td>\n",
              "      <td>NaN</td>\n",
              "    </tr>\n",
              "    <tr>\n",
              "      <th>2006-07-18 00:00:00+00:00</th>\n",
              "      <td>26.9277</td>\n",
              "      <td>34.0151</td>\n",
              "      <td>3.36689</td>\n",
              "      <td>NaN</td>\n",
              "    </tr>\n",
              "    <tr>\n",
              "      <th>2006-07-19 00:00:00+00:00</th>\n",
              "      <td>27.0194</td>\n",
              "      <td>33.8661</td>\n",
              "      <td>3.37489</td>\n",
              "      <td>NaN</td>\n",
              "    </tr>\n",
              "    <tr>\n",
              "      <th>2006-07-20 00:00:00+00:00</th>\n",
              "      <td>27.0554</td>\n",
              "      <td>33.8247</td>\n",
              "      <td>3.38023</td>\n",
              "      <td>NaN</td>\n",
              "    </tr>\n",
              "    <tr>\n",
              "      <th>2006-07-21 00:00:00+00:00</th>\n",
              "      <td>26.9674</td>\n",
              "      <td>33.9789</td>\n",
              "      <td>3.37261</td>\n",
              "      <td>NaN</td>\n",
              "    </tr>\n",
              "    <tr>\n",
              "      <th>...</th>\n",
              "      <td>...</td>\n",
              "      <td>...</td>\n",
              "      <td>...</td>\n",
              "      <td>...</td>\n",
              "    </tr>\n",
              "    <tr>\n",
              "      <th>2024-10-29 00:00:00+00:00</th>\n",
              "      <td>97.2300</td>\n",
              "      <td>105.2229</td>\n",
              "      <td>13.61030</td>\n",
              "      <td>21.0</td>\n",
              "    </tr>\n",
              "    <tr>\n",
              "      <th>2024-10-30 00:00:00+00:00</th>\n",
              "      <td>97.3261</td>\n",
              "      <td>105.4375</td>\n",
              "      <td>13.59540</td>\n",
              "      <td>21.0</td>\n",
              "    </tr>\n",
              "    <tr>\n",
              "      <th>2024-10-31 00:00:00+00:00</th>\n",
              "      <td>97.0530</td>\n",
              "      <td>105.2211</td>\n",
              "      <td>13.58760</td>\n",
              "      <td>21.0</td>\n",
              "    </tr>\n",
              "    <tr>\n",
              "      <th>2024-11-01 00:00:00+00:00</th>\n",
              "      <td>97.0226</td>\n",
              "      <td>105.5231</td>\n",
              "      <td>13.60680</td>\n",
              "      <td>21.0</td>\n",
              "    </tr>\n",
              "    <tr>\n",
              "      <th>2024-11-02 00:00:00+00:00</th>\n",
              "      <td>97.4402</td>\n",
              "      <td>105.8415</td>\n",
              "      <td>13.63940</td>\n",
              "      <td>NaN</td>\n",
              "    </tr>\n",
              "  </tbody>\n",
              "</table>\n",
              "<p>6684 rows × 4 columns</p>\n",
              "</div>\n",
              "    <div class=\"colab-df-buttons\">\n",
              "\n",
              "  <div class=\"colab-df-container\">\n",
              "    <button class=\"colab-df-convert\" onclick=\"convertToInteractive('df-c84df9b6-f405-4fb3-b910-abaa6f8e2cce')\"\n",
              "            title=\"Convert this dataframe to an interactive table.\"\n",
              "            style=\"display:none;\">\n",
              "\n",
              "  <svg xmlns=\"http://www.w3.org/2000/svg\" height=\"24px\" viewBox=\"0 -960 960 960\">\n",
              "    <path d=\"M120-120v-720h720v720H120Zm60-500h600v-160H180v160Zm220 220h160v-160H400v160Zm0 220h160v-160H400v160ZM180-400h160v-160H180v160Zm440 0h160v-160H620v160ZM180-180h160v-160H180v160Zm440 0h160v-160H620v160Z\"/>\n",
              "  </svg>\n",
              "    </button>\n",
              "\n",
              "  <style>\n",
              "    .colab-df-container {\n",
              "      display:flex;\n",
              "      gap: 12px;\n",
              "    }\n",
              "\n",
              "    .colab-df-convert {\n",
              "      background-color: #E8F0FE;\n",
              "      border: none;\n",
              "      border-radius: 50%;\n",
              "      cursor: pointer;\n",
              "      display: none;\n",
              "      fill: #1967D2;\n",
              "      height: 32px;\n",
              "      padding: 0 0 0 0;\n",
              "      width: 32px;\n",
              "    }\n",
              "\n",
              "    .colab-df-convert:hover {\n",
              "      background-color: #E2EBFA;\n",
              "      box-shadow: 0px 1px 2px rgba(60, 64, 67, 0.3), 0px 1px 3px 1px rgba(60, 64, 67, 0.15);\n",
              "      fill: #174EA6;\n",
              "    }\n",
              "\n",
              "    .colab-df-buttons div {\n",
              "      margin-bottom: 4px;\n",
              "    }\n",
              "\n",
              "    [theme=dark] .colab-df-convert {\n",
              "      background-color: #3B4455;\n",
              "      fill: #D2E3FC;\n",
              "    }\n",
              "\n",
              "    [theme=dark] .colab-df-convert:hover {\n",
              "      background-color: #434B5C;\n",
              "      box-shadow: 0px 1px 3px 1px rgba(0, 0, 0, 0.15);\n",
              "      filter: drop-shadow(0px 1px 2px rgba(0, 0, 0, 0.3));\n",
              "      fill: #FFFFFF;\n",
              "    }\n",
              "  </style>\n",
              "\n",
              "    <script>\n",
              "      const buttonEl =\n",
              "        document.querySelector('#df-c84df9b6-f405-4fb3-b910-abaa6f8e2cce button.colab-df-convert');\n",
              "      buttonEl.style.display =\n",
              "        google.colab.kernel.accessAllowed ? 'block' : 'none';\n",
              "\n",
              "      async function convertToInteractive(key) {\n",
              "        const element = document.querySelector('#df-c84df9b6-f405-4fb3-b910-abaa6f8e2cce');\n",
              "        const dataTable =\n",
              "          await google.colab.kernel.invokeFunction('convertToInteractive',\n",
              "                                                    [key], {});\n",
              "        if (!dataTable) return;\n",
              "\n",
              "        const docLinkHtml = 'Like what you see? Visit the ' +\n",
              "          '<a target=\"_blank\" href=https://colab.research.google.com/notebooks/data_table.ipynb>data table notebook</a>'\n",
              "          + ' to learn more about interactive tables.';\n",
              "        element.innerHTML = '';\n",
              "        dataTable['output_type'] = 'display_data';\n",
              "        await google.colab.output.renderOutput(dataTable, element);\n",
              "        const docLink = document.createElement('div');\n",
              "        docLink.innerHTML = docLinkHtml;\n",
              "        element.appendChild(docLink);\n",
              "      }\n",
              "    </script>\n",
              "  </div>\n",
              "\n",
              "\n",
              "<div id=\"df-794f60f9-c047-4a74-ad9e-13effe599d99\">\n",
              "  <button class=\"colab-df-quickchart\" onclick=\"quickchart('df-794f60f9-c047-4a74-ad9e-13effe599d99')\"\n",
              "            title=\"Suggest charts\"\n",
              "            style=\"display:none;\">\n",
              "\n",
              "<svg xmlns=\"http://www.w3.org/2000/svg\" height=\"24px\"viewBox=\"0 0 24 24\"\n",
              "     width=\"24px\">\n",
              "    <g>\n",
              "        <path d=\"M19 3H5c-1.1 0-2 .9-2 2v14c0 1.1.9 2 2 2h14c1.1 0 2-.9 2-2V5c0-1.1-.9-2-2-2zM9 17H7v-7h2v7zm4 0h-2V7h2v10zm4 0h-2v-4h2v4z\"/>\n",
              "    </g>\n",
              "</svg>\n",
              "  </button>\n",
              "\n",
              "<style>\n",
              "  .colab-df-quickchart {\n",
              "      --bg-color: #E8F0FE;\n",
              "      --fill-color: #1967D2;\n",
              "      --hover-bg-color: #E2EBFA;\n",
              "      --hover-fill-color: #174EA6;\n",
              "      --disabled-fill-color: #AAA;\n",
              "      --disabled-bg-color: #DDD;\n",
              "  }\n",
              "\n",
              "  [theme=dark] .colab-df-quickchart {\n",
              "      --bg-color: #3B4455;\n",
              "      --fill-color: #D2E3FC;\n",
              "      --hover-bg-color: #434B5C;\n",
              "      --hover-fill-color: #FFFFFF;\n",
              "      --disabled-bg-color: #3B4455;\n",
              "      --disabled-fill-color: #666;\n",
              "  }\n",
              "\n",
              "  .colab-df-quickchart {\n",
              "    background-color: var(--bg-color);\n",
              "    border: none;\n",
              "    border-radius: 50%;\n",
              "    cursor: pointer;\n",
              "    display: none;\n",
              "    fill: var(--fill-color);\n",
              "    height: 32px;\n",
              "    padding: 0;\n",
              "    width: 32px;\n",
              "  }\n",
              "\n",
              "  .colab-df-quickchart:hover {\n",
              "    background-color: var(--hover-bg-color);\n",
              "    box-shadow: 0 1px 2px rgba(60, 64, 67, 0.3), 0 1px 3px 1px rgba(60, 64, 67, 0.15);\n",
              "    fill: var(--button-hover-fill-color);\n",
              "  }\n",
              "\n",
              "  .colab-df-quickchart-complete:disabled,\n",
              "  .colab-df-quickchart-complete:disabled:hover {\n",
              "    background-color: var(--disabled-bg-color);\n",
              "    fill: var(--disabled-fill-color);\n",
              "    box-shadow: none;\n",
              "  }\n",
              "\n",
              "  .colab-df-spinner {\n",
              "    border: 2px solid var(--fill-color);\n",
              "    border-color: transparent;\n",
              "    border-bottom-color: var(--fill-color);\n",
              "    animation:\n",
              "      spin 1s steps(1) infinite;\n",
              "  }\n",
              "\n",
              "  @keyframes spin {\n",
              "    0% {\n",
              "      border-color: transparent;\n",
              "      border-bottom-color: var(--fill-color);\n",
              "      border-left-color: var(--fill-color);\n",
              "    }\n",
              "    20% {\n",
              "      border-color: transparent;\n",
              "      border-left-color: var(--fill-color);\n",
              "      border-top-color: var(--fill-color);\n",
              "    }\n",
              "    30% {\n",
              "      border-color: transparent;\n",
              "      border-left-color: var(--fill-color);\n",
              "      border-top-color: var(--fill-color);\n",
              "      border-right-color: var(--fill-color);\n",
              "    }\n",
              "    40% {\n",
              "      border-color: transparent;\n",
              "      border-right-color: var(--fill-color);\n",
              "      border-top-color: var(--fill-color);\n",
              "    }\n",
              "    60% {\n",
              "      border-color: transparent;\n",
              "      border-right-color: var(--fill-color);\n",
              "    }\n",
              "    80% {\n",
              "      border-color: transparent;\n",
              "      border-right-color: var(--fill-color);\n",
              "      border-bottom-color: var(--fill-color);\n",
              "    }\n",
              "    90% {\n",
              "      border-color: transparent;\n",
              "      border-bottom-color: var(--fill-color);\n",
              "    }\n",
              "  }\n",
              "</style>\n",
              "\n",
              "  <script>\n",
              "    async function quickchart(key) {\n",
              "      const quickchartButtonEl =\n",
              "        document.querySelector('#' + key + ' button');\n",
              "      quickchartButtonEl.disabled = true;  // To prevent multiple clicks.\n",
              "      quickchartButtonEl.classList.add('colab-df-spinner');\n",
              "      try {\n",
              "        const charts = await google.colab.kernel.invokeFunction(\n",
              "            'suggestCharts', [key], {});\n",
              "      } catch (error) {\n",
              "        console.error('Error during call to suggestCharts:', error);\n",
              "      }\n",
              "      quickchartButtonEl.classList.remove('colab-df-spinner');\n",
              "      quickchartButtonEl.classList.add('colab-df-quickchart-complete');\n",
              "    }\n",
              "    (() => {\n",
              "      let quickchartButtonEl =\n",
              "        document.querySelector('#df-794f60f9-c047-4a74-ad9e-13effe599d99 button');\n",
              "      quickchartButtonEl.style.display =\n",
              "        google.colab.kernel.accessAllowed ? 'block' : 'none';\n",
              "    })();\n",
              "  </script>\n",
              "</div>\n",
              "    </div>\n",
              "  </div>\n"
            ],
            "application/vnd.google.colaboratory.intrinsic+json": {
              "type": "dataframe",
              "variable_name": "df",
              "summary": "{\n  \"name\": \"df\",\n  \"rows\": 6684,\n  \"fields\": [\n    {\n      \"column\": \"\\u0414\\u043e\\u043b\\u043b\\u0430\\u0440\",\n      \"properties\": {\n        \"dtype\": \"number\",\n        \"std\": 21.839782692566676,\n        \"min\": 23.1255,\n        \"max\": 120.3785,\n        \"num_unique_values\": 4503,\n        \"samples\": [\n          73.5264,\n          32.8384,\n          60.3164\n        ],\n        \"semantic_type\": \"\",\n        \"description\": \"\"\n      }\n    },\n    {\n      \"column\": \"\\u0415\\u0432\\u0440\\u043e\",\n      \"properties\": {\n        \"dtype\": \"number\",\n        \"std\": 21.238815950857433,\n        \"min\": 33.7247,\n        \"max\": 132.9581,\n        \"num_unique_values\": 4496,\n        \"samples\": [\n          34.4564,\n          44.0586,\n          36.2958\n        ],\n        \"semantic_type\": \"\",\n        \"description\": \"\"\n      }\n    },\n    {\n      \"column\": \"\\u042e\\u0430\\u043d\\u044c\",\n      \"properties\": {\n        \"dtype\": \"number\",\n        \"std\": 3.170439903009632,\n        \"min\": 3.27944,\n        \"max\": 19.0415,\n        \"num_unique_values\": 4489,\n        \"samples\": [\n          3.38438,\n          12.663,\n          4.56269\n        ],\n        \"semantic_type\": \"\",\n        \"description\": \"\"\n      }\n    },\n    {\n      \"column\": \"\\u0421\\u0442\\u0430\\u0432\\u043a\\u0430\",\n      \"properties\": {\n        \"dtype\": \"number\",\n        \"std\": 3.642915496988663,\n        \"min\": 4.25,\n        \"max\": 21.0,\n        \"num_unique_values\": 34,\n        \"samples\": [\n          9.0,\n          7.25,\n          20.0\n        ],\n        \"semantic_type\": \"\",\n        \"description\": \"\"\n      }\n    }\n  ]\n}"
            }
          },
          "metadata": {},
          "execution_count": 317
        }
      ]
    },
    {
      "cell_type": "code",
      "source": [
        "len(set(df.index) - first)"
      ],
      "metadata": {
        "colab": {
          "base_uri": "https://localhost:8080/"
        },
        "id": "TcaUDKUyMy1q",
        "outputId": "0498e492-d280-490c-b4c8-a6ec047ac228"
      },
      "execution_count": null,
      "outputs": [
        {
          "output_type": "execute_result",
          "data": {
            "text/plain": [
              "2619"
            ]
          },
          "metadata": {},
          "execution_count": 286
        }
      ]
    },
    {
      "cell_type": "code",
      "source": [
        "df['Дата'][df['Дата'].apply(type) == str]"
      ],
      "metadata": {
        "colab": {
          "base_uri": "https://localhost:8080/",
          "height": 84
        },
        "id": "BJVPPPT2D3ub",
        "outputId": "52401251-350f-4fa4-aba4-a684f8b27a09"
      },
      "execution_count": null,
      "outputs": [
        {
          "output_type": "execute_result",
          "data": {
            "text/plain": [
              "Series([], Name: Дата, dtype: object)"
            ],
            "text/html": [
              "<div>\n",
              "<style scoped>\n",
              "    .dataframe tbody tr th:only-of-type {\n",
              "        vertical-align: middle;\n",
              "    }\n",
              "\n",
              "    .dataframe tbody tr th {\n",
              "        vertical-align: top;\n",
              "    }\n",
              "\n",
              "    .dataframe thead th {\n",
              "        text-align: right;\n",
              "    }\n",
              "</style>\n",
              "<table border=\"1\" class=\"dataframe\">\n",
              "  <thead>\n",
              "    <tr style=\"text-align: right;\">\n",
              "      <th></th>\n",
              "      <th>Дата</th>\n",
              "    </tr>\n",
              "  </thead>\n",
              "  <tbody>\n",
              "  </tbody>\n",
              "</table>\n",
              "</div><br><label><b>dtype:</b> object</label>"
            ]
          },
          "metadata": {},
          "execution_count": 241
        }
      ]
    },
    {
      "cell_type": "code",
      "source": [
        "df.dtypes"
      ],
      "metadata": {
        "colab": {
          "base_uri": "https://localhost:8080/",
          "height": 210
        },
        "id": "UQHPQn16B3dK",
        "outputId": "2fac2e35-4b7a-43f7-ca2c-05eef08bb5e9"
      },
      "execution_count": null,
      "outputs": [
        {
          "output_type": "execute_result",
          "data": {
            "text/plain": [
              "Дата      object\n",
              "Доллар    object\n",
              "Евро      object\n",
              "Юань      object\n",
              "dtype: object"
            ],
            "text/html": [
              "<div>\n",
              "<style scoped>\n",
              "    .dataframe tbody tr th:only-of-type {\n",
              "        vertical-align: middle;\n",
              "    }\n",
              "\n",
              "    .dataframe tbody tr th {\n",
              "        vertical-align: top;\n",
              "    }\n",
              "\n",
              "    .dataframe thead th {\n",
              "        text-align: right;\n",
              "    }\n",
              "</style>\n",
              "<table border=\"1\" class=\"dataframe\">\n",
              "  <thead>\n",
              "    <tr style=\"text-align: right;\">\n",
              "      <th></th>\n",
              "      <th>0</th>\n",
              "    </tr>\n",
              "  </thead>\n",
              "  <tbody>\n",
              "    <tr>\n",
              "      <th>Дата</th>\n",
              "      <td>object</td>\n",
              "    </tr>\n",
              "    <tr>\n",
              "      <th>Доллар</th>\n",
              "      <td>object</td>\n",
              "    </tr>\n",
              "    <tr>\n",
              "      <th>Евро</th>\n",
              "      <td>object</td>\n",
              "    </tr>\n",
              "    <tr>\n",
              "      <th>Юань</th>\n",
              "      <td>object</td>\n",
              "    </tr>\n",
              "  </tbody>\n",
              "</table>\n",
              "</div><br><label><b>dtype:</b> object</label>"
            ]
          },
          "metadata": {},
          "execution_count": 242
        }
      ]
    },
    {
      "cell_type": "markdown",
      "source": [],
      "metadata": {
        "id": "cU7vh1WTxjis"
      }
    }
  ]
}